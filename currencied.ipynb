{
 "cells": [
  {
   "cell_type": "code",
   "execution_count": 11,
   "metadata": {},
   "outputs": [],
   "source": [
    "# Problem Statement: To Develop a currency converter that can convert between different currencies using live exchange rates"
   ]
  },
  {
   "cell_type": "code",
   "execution_count": 12,
   "metadata": {},
   "outputs": [],
   "source": [
    "# First we import the requests library to handle API requests.\n",
    "import tkinter as tk\n",
    "import requests"
   ]
  },
  {
   "cell_type": "code",
   "execution_count": 13,
   "metadata": {},
   "outputs": [],
   "source": [
    "def convert(self):\n",
    "    pass"
   ]
  },
  {
   "cell_type": "code",
   "execution_count": 18,
   "metadata": {},
   "outputs": [],
   "source": [
    "base_currency= str(input(\"Enter the base currency: \")).upper()\n",
    "target_currency= str(input(\"Enter the target currency: \")).upper()\n",
    "amount= float(input(\"Enter the amount: \"))\n",
    "\n",
    "\n",
    "def __init__(self):\n",
    "    self.root= tk.Tk()\n",
    "    self.from_var= tk.StringVar(self.root)\n",
    "    self.from_menu= tk.OptionMenu(self.root ,self.from_var)\n",
    "    self.from_menu.pack(pady= 1 )\n",
    "    \n",
    "    self.convertbutton= tk.Button(self.root, text='Convert', command= self.convert)\n",
    "    self.convertbutton.pack(pady=1)\n",
    "    \n",
    "    self.result= tk.Label(self.root,text=\"Converted!!\")\n",
    "    self.reselt.pack(pady=1)\n",
    "    \n",
    "    self.root.mainloop()\n",
    "    \n",
    "    "
   ]
  },
  {
   "cell_type": "code",
   "execution_count": 15,
   "metadata": {},
   "outputs": [],
   "source": [
    "response= requests.get (f\"https://api.frankfurter.app/latest?amount={amount}&from={base_currency}&to={target_currency}\")\n",
    "# to check if the api fetch is working we use status code, if it is 200 then it means api is fetched.\n",
    "# print(response.status_code) \n",
    "\n",
    "if response.status_code != 200:\n",
    "        print(\"Error fetching exchange rates.\")\n",
    "    "
   ]
  },
  {
   "cell_type": "code",
   "execution_count": 16,
   "metadata": {},
   "outputs": [
    {
     "name": "stdout",
     "output_type": "stream",
     "text": [
      "78.0 INR is 0.93041 USD\n"
     ]
    }
   ],
   "source": [
    "print(f\"{amount} {base_currency} is {response.json() ['rates'][target_currency]} {target_currency}\")"
   ]
  },
  {
   "cell_type": "code",
   "execution_count": null,
   "metadata": {},
   "outputs": [],
   "source": []
  }
 ],
 "metadata": {
  "kernelspec": {
   "display_name": "Python 3",
   "language": "python",
   "name": "python3"
  },
  "language_info": {
   "codemirror_mode": {
    "name": "ipython",
    "version": 3
   },
   "file_extension": ".py",
   "mimetype": "text/x-python",
   "name": "python",
   "nbconvert_exporter": "python",
   "pygments_lexer": "ipython3",
   "version": "3.12.5"
  }
 },
 "nbformat": 4,
 "nbformat_minor": 2
}
