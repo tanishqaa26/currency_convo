{
 "cells": [
  {
   "cell_type": "code",
   "execution_count": 2,
   "id": "d1ca52a5",
   "metadata": {},
   "outputs": [],
   "source": [
    "# To create a convertor app that converts the base currency to the targeted currency using live exchange rates.\n",
    "import requests"
   ]
  },
  {
   "cell_type": "code",
   "execution_count": 26,
   "id": "ff86d43a",
   "metadata": {},
   "outputs": [],
   "source": [
    "# create a fucntion to get exchange rates from the API\n",
    "\n",
    "def get_exchange_rate(api_key, base_currency, target_currency):\n",
    "    url= f\"https://v6.exchangerate-api.com/v6/085b3d9d9370990ad886be19/latest/USD\"\n",
    "    response= requests.get(url)\n",
    "    data=response.json()\n",
    "    \n",
    "    \n",
    "    if response.status_code != 200:\n",
    "        print(\"Error fetching exchange rates.\")\n",
    "        return None\n",
    "\n",
    "    return data[\"conversion_rates\"].get(target_currency, None)\n",
    "    \n"
   ]
  },
  {
   "cell_type": "code",
   "execution_count": 27,
   "id": "7f5610b0",
   "metadata": {},
   "outputs": [],
   "source": [
    "def convert_currency(amount, exchange_rate):\n",
    "    return amount * exchange_rate\n"
   ]
  },
  {
   "cell_type": "code",
   "execution_count": 35,
   "id": "145c1f32",
   "metadata": {},
   "outputs": [],
   "source": [
    "def main():\n",
    "    api_key= \"085b3d9d9370990ad886be19\"\n",
    "    base_currency= input(\"Enter the base currency (eg- USD): \")\n",
    "    target_currency= input(\"Enter the currency you want to convert it to like INR: \")\n",
    "    amount= int(input(\"Enter the amount: \"))\n",
    "    \n",
    "    \n",
    "#     exchange_rate= get_exchange_rate(api_key, base_currency, target_currency)\n",
    "    \n",
    "#     if exchange_rate is None:\n",
    "#         print(f\"Conversion rate for {target_currency} not found.\")\n",
    "        \n",
    "#     if __name__ == \"__main__\":\n",
    "#         main()\n",
    "    \n",
    "a= main()\n",
    "a= convert_currency(amount, exchange_rate)\n",
    "a= get_exchange_rate(api_key, base_currency, target_currency)"
   ]
  },
  {
   "cell_type": "code",
   "execution_count": 29,
   "id": "44099e1b",
   "metadata": {},
   "outputs": [],
   "source": []
  },
  {
   "cell_type": "code",
   "execution_count": null,
   "id": "2523cbcc",
   "metadata": {},
   "outputs": [],
   "source": []
  },
  {
   "cell_type": "code",
   "execution_count": null,
   "id": "5c51b4b2",
   "metadata": {},
   "outputs": [],
   "source": [
    "# if exchange_rate is None:\n",
    "#         print(f\"Conversion rate for {target_currency} not found.\")\n",
    "# #         return\n",
    "    \n",
    "# #     converted_amount = convert_currency(amount, exchange_rate)\n",
    "# #     print(f\"{amount} {base_currency} is equal to {converted_amount:.2f} {target_currency}.\")\n",
    "\n",
    "# if __name__ == \"__main__\":\n",
    "#     main()"
   ]
  }
 ],
 "metadata": {
  "kernelspec": {
   "display_name": "Python 3 (ipykernel)",
   "language": "python",
   "name": "python3"
  },
  "language_info": {
   "codemirror_mode": {
    "name": "ipython",
    "version": 3
   },
   "file_extension": ".py",
   "mimetype": "text/x-python",
   "name": "python",
   "nbconvert_exporter": "python",
   "pygments_lexer": "ipython3",
   "version": "3.10.9"
  }
 },
 "nbformat": 4,
 "nbformat_minor": 5
}
